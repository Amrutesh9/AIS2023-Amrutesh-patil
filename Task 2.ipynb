{
 "cells": [
  {
   "cell_type": "code",
   "execution_count": 1,
   "id": "0b89b781",
   "metadata": {},
   "outputs": [
    {
     "name": "stdout",
     "output_type": "stream",
     "text": [
      "[1, 2, 3, 4, 5, 6, 7, 8, 9, 10, 11, 12, 13, 14, 15, 16, 17, 18, 19, 20]\n"
     ]
    }
   ],
   "source": [
    "#  Write code :\n",
    "\n",
    "# 1) create list of 1 to 20 numbers using for loop\n",
    "\n",
    "list1 = [] # defining list\n",
    "\n",
    "for i in range(1,21): # applying range function to specify range from 1 to 20\n",
    "    list1.append(i)\n",
    "    \n",
    "print(list1)"
   ]
  },
  {
   "cell_type": "code",
   "execution_count": 2,
   "id": "047169f1",
   "metadata": {},
   "outputs": [
    {
     "name": "stdout",
     "output_type": "stream",
     "text": [
      "[20, 19, 18, 17, 16, 15, 14, 13, 12, 11, 10, 9, 8, 7, 6, 5, 4, 3, 2, 1, 0]\n"
     ]
    }
   ],
   "source": [
    "# 2) create list of 20 to queue numbers using while loop\n",
    "\n",
    "list1 = []\n",
    "i=20\n",
    "\n",
    "while i>=0:\n",
    "    list1.append(i)\n",
    "    i-=1\n",
    "    \n",
    "print(list1)"
   ]
  },
  {
   "cell_type": "code",
   "execution_count": 3,
   "id": "722bf0f2",
   "metadata": {},
   "outputs": [
    {
     "name": "stdout",
     "output_type": "stream",
     "text": [
      "Enter Marks90\n",
      "A Grade\n"
     ]
    }
   ],
   "source": [
    "# 3) Write conditional loop for checking grades o,a,b,c and fail (Define own conditions)\n",
    "\n",
    "mrks = int(input('Enter Marks'))\n",
    "\n",
    "if (mrks>=35) and (mrks<50):\n",
    "    print(\"C Grade\")\n",
    "    \n",
    "elif (mrks>=50) and (mrks<=65):\n",
    "    print(\"B Grade\")\n",
    "    \n",
    "elif (mrks>=65) and (mrks<=90):\n",
    "    print(\"A Grade\")\n",
    "    \n",
    "elif (mrks>=90) and (mrks<=100):\n",
    "    print(\"O Grade\")\n",
    "else:\n",
    "    print(\"Fail\")\n"
   ]
  },
  {
   "cell_type": "code",
   "execution_count": 4,
   "id": "cd02701d",
   "metadata": {},
   "outputs": [
    {
     "name": "stdout",
     "output_type": "stream",
     "text": [
      "Enter any number7\n",
      "It is Prime number\n"
     ]
    }
   ],
   "source": [
    "# 4) Write conditional loop for prime numbers\n",
    "\n",
    "num=int(input(\"Enter any number\"))\n",
    "count=0\n",
    "i=1\n",
    "\n",
    "while(i<=num):\n",
    "    if(num%i==0):\n",
    "        count=count+1\n",
    "        \n",
    "    i=i+1\n",
    "    \n",
    "if (count == 2):\n",
    "    print(\"It is Prime number\")\n",
    "else:\n",
    "    print(\"It is not a prime number\")"
   ]
  },
  {
   "cell_type": "code",
   "execution_count": 5,
   "id": "2e215796",
   "metadata": {},
   "outputs": [
    {
     "name": "stdout",
     "output_type": "stream",
     "text": [
      "1\n",
      "3\n",
      "5\n",
      "7\n",
      "9\n",
      "11\n",
      "13\n",
      "15\n",
      "17\n",
      "19\n",
      "21\n",
      "23\n",
      "25\n",
      "27\n",
      "29\n"
     ]
    }
   ],
   "source": [
    "# 5) Write \" for loop \" for printing odd value using continue statement\n",
    "\n",
    "for c in range(0, 30):\n",
    "    if(c % 2 != 0):\n",
    "        print(c)"
   ]
  },
  {
   "cell_type": "code",
   "execution_count": 6,
   "id": "e29b1acb",
   "metadata": {},
   "outputs": [
    {
     "name": "stdout",
     "output_type": "stream",
     "text": [
      "A1\n",
      "B2\n",
      "C3\n",
      "D4\n",
      "E5\n",
      "F6\n",
      "G7\n",
      "H8\n",
      "I9\n",
      "J10\n",
      "K11\n",
      "L12\n",
      "M13\n",
      "N14\n",
      "O15\n",
      "P16\n",
      "Q17\n",
      "R18\n",
      "S19\n",
      "T20\n",
      "U21\n",
      "V22\n",
      "W23\n",
      "X24\n",
      "Y25\n",
      "Z26\n"
     ]
    }
   ],
   "source": [
    "# 6) Write a code to print the output as A1........Z26\n",
    "\n",
    "import string\n",
    "S=[\"A\",\"B\",\"C\",\"D\",\"E\",\"F\",\"G\",\"H\",\"I\",\"J\",\"K\",\"L\",\"M\",\"N\",\"O\",\"P\",\"Q\",\"R\",\"S\",\"T\",\"U\",\"V\",\"W\",\"X\",\"Y\",\"Z\"]\n",
    "for i in range(0,len(S)):\n",
    "    print(S[i]+str(i+1))"
   ]
  },
  {
   "cell_type": "code",
   "execution_count": 7,
   "id": "c1079206",
   "metadata": {},
   "outputs": [
    {
     "name": "stdout",
     "output_type": "stream",
     "text": [
      "(5, 6, 4, 2, 3, 1)\n"
     ]
    }
   ],
   "source": [
    "# 7) Write a code to reverse a given tuple ( without using reverse method ) \n",
    "# T=(1,3,2,4,6,5)\n",
    "\n",
    "T=(1,3,2,4,6,5)\n",
    "\n",
    "# using slicing  \n",
    "\n",
    "T = T[::-1]\n",
    "\n",
    "# displaying the tuple  \n",
    "\n",
    "print(T) "
   ]
  },
  {
   "cell_type": "code",
   "execution_count": 8,
   "id": "7d6257c6",
   "metadata": {},
   "outputs": [
    {
     "name": "stdout",
     "output_type": "stream",
     "text": [
      "Python\n",
      "s\n",
      "t\n",
      "a\n",
      "t\n",
      "i\n",
      "Python\n",
      "s\n",
      "t\n",
      "i\n",
      "c\n",
      "Python\n",
      "s\n"
     ]
    }
   ],
   "source": [
    "# 8) Write a code to print statistics\n",
    "\n",
    "s =\"statistics\"\n",
    "\n",
    "for i in range(len(s)):\n",
    "    if s[i]=='s':  \n",
    "        print('Python')\n",
    "    print(s[i])"
   ]
  },
  {
   "cell_type": "code",
   "execution_count": 9,
   "id": "5f7da9dd",
   "metadata": {},
   "outputs": [
    {
     "name": "stdout",
     "output_type": "stream",
     "text": [
      "a\n",
      "b\n",
      "c\n",
      "d\n",
      "e\n",
      "f\n",
      "g\n"
     ]
    }
   ],
   "source": [
    "# 9) Write a code to print every word and  stop iterating after letter g\n",
    "# alpha = [a,b,c,d,e,f,g,h,i]\n",
    "\n",
    "alpha = ['a','b','c','d','e','f','g','h','i']\n",
    "for i in alpha:\n",
    "    print(i)\n",
    "    if (i=='g'):\n",
    "        break"
   ]
  },
  {
   "cell_type": "code",
   "execution_count": null,
   "id": "465f0520",
   "metadata": {},
   "outputs": [],
   "source": []
  }
 ],
 "metadata": {
  "kernelspec": {
   "display_name": "Python 3 (ipykernel)",
   "language": "python",
   "name": "python3"
  },
  "language_info": {
   "codemirror_mode": {
    "name": "ipython",
    "version": 3
   },
   "file_extension": ".py",
   "mimetype": "text/x-python",
   "name": "python",
   "nbconvert_exporter": "python",
   "pygments_lexer": "ipython3",
   "version": "3.9.12"
  }
 },
 "nbformat": 4,
 "nbformat_minor": 5
}
