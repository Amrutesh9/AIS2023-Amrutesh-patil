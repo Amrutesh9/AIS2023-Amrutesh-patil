{
 "cells": [
  {
   "cell_type": "markdown",
   "id": "35ef8030",
   "metadata": {},
   "source": [
    "# Functions in python"
   ]
  },
  {
   "cell_type": "code",
   "execution_count": 1,
   "id": "18e2e3e1",
   "metadata": {},
   "outputs": [
    {
     "name": "stdout",
     "output_type": "stream",
     "text": [
      "A. HISTORY OF THE SOFTWARE\n",
      "==========================\n",
      "\n",
      "Python was created in the early 1990s by Guido van Rossum at Stichting\n",
      "Mathematisch Centrum (CWI, see https://www.cwi.nl) in the Netherlands\n",
      "as a successor of a language called ABC.  Guido remains Python's\n",
      "principal author, although it includes many contributions from others.\n",
      "\n",
      "In 1995, Guido continued his work on Python at the Corporation for\n",
      "National Research Initiatives (CNRI, see https://www.cnri.reston.va.us)\n",
      "in Reston, Virginia where he released several versions of the\n",
      "software.\n",
      "\n",
      "In May 2000, Guido and the Python core development team moved to\n",
      "BeOpen.com to form the BeOpen PythonLabs team.  In October of the same\n",
      "year, the PythonLabs team moved to Digital Creations, which became\n",
      "Zope Corporation.  In 2001, the Python Software Foundation (PSF, see\n",
      "https://www.python.org/psf/) was formed, a non-profit organization\n",
      "created specifically to own Python-related Intellectual Property.\n",
      "Zope Corporation was a sponsoring member of the PSF.\n",
      "\n",
      "All Python releases are Open Source (see https://opensource.org for\n",
      "the Open Source Definition).  Historically, most, but not all, Python\n",
      "releases have also been GPL-compatible; the table below summarizes\n",
      "the various releases.\n"
     ]
    }
   ],
   "source": [
    "# Read method()\n",
    "# Syntax : file_object.read(size)\n",
    "\n",
    "# Example 1 \n",
    "f = open(\"C:\\Program Files\\Python311\\LICENSE.txt\")\n",
    "print(f.read(1230))"
   ]
  },
  {
   "cell_type": "code",
   "execution_count": 2,
   "id": "fe7966d8",
   "metadata": {},
   "outputs": [
    {
     "name": "stdout",
     "output_type": "stream",
     "text": [
      "+++++++++++\n",
      "Python News\n",
      "+++++++++++\n",
      "\n",
      "What's New in Python 3.11.2 final?\n",
      "==================================\n",
      "\n",
      "*Release date: 2023-02-07*\n",
      "\n",
      "Core and Builtins\n",
      "-----------------\n",
      "\n",
      "- gh-issue-92173: Fix the ``defs`` and ``kwdefs`` arguments to\n",
      "  :c:func:`PyEval_EvalCodeEx` and a reference leak in that function.\n",
      "\n",
      "- gh-issue-101400: Fix wrong lineno in exception message on\n",
      "  :keyword:`continue` or :keyword:`break` which are not in a loop. Patch by\n",
      "  Dong-hee Na.\n",
      "\n",
      "- gh-issue-101372: Fix :func:`~unicodedata\n"
     ]
    }
   ],
   "source": [
    "# Example 2)\n",
    "\n",
    "f = open(\"C:\\\\Program Files\\\\Python311\\\\NEWS.txt\")\n",
    "print(f.read(500))"
   ]
  },
  {
   "cell_type": "code",
   "execution_count": 3,
   "id": "0d9d658e",
   "metadata": {},
   "outputs": [
    {
     "name": "stdout",
     "output_type": "stream",
     "text": [
      "30\n"
     ]
    }
   ],
   "source": [
    "# Lambda\n",
    "# Syntax : lambda arguments : expression\n",
    "\n",
    "\n",
    "# Example 1\n",
    "\n",
    "x = lambda l : l + 10\n",
    "print(x(20))"
   ]
  },
  {
   "cell_type": "code",
   "execution_count": 4,
   "id": "ad542487",
   "metadata": {},
   "outputs": [
    {
     "name": "stdout",
     "output_type": "stream",
     "text": [
      "600\n"
     ]
    }
   ],
   "source": [
    "# Example 2\n",
    "\n",
    "x = lambda z : z * 20 + z * 10\n",
    "print(x(20))"
   ]
  },
  {
   "cell_type": "code",
   "execution_count": 5,
   "id": "5b2abb5c",
   "metadata": {},
   "outputs": [
    {
     "name": "stdout",
     "output_type": "stream",
     "text": [
      "The temperature is between +24 and +33 degrees celsius.\n"
     ]
    }
   ],
   "source": [
    "# Format()\n",
    "# Syntax string.format(value1, value2, value3 ....)\n",
    "\n",
    "# Example 1\n",
    "\n",
    "txt = \"The temperature is between {:+} and {:+} degrees celsius.\"\n",
    "print(txt.format(24, 33))"
   ]
  },
  {
   "cell_type": "code",
   "execution_count": 6,
   "id": "cee38225",
   "metadata": {},
   "outputs": [
    {
     "name": "stdout",
     "output_type": "stream",
     "text": [
      "We have 15 interns.\n"
     ]
    }
   ],
   "source": [
    "# Example 2\n",
    "txt = \"We have{:>3} interns.\"\n",
    "print(txt.format(15))"
   ]
  },
  {
   "cell_type": "code",
   "execution_count": 7,
   "id": "6f7c8c90",
   "metadata": {},
   "outputs": [
    {
     "name": "stdout",
     "output_type": "stream",
     "text": [
      "80\n",
      "100\n"
     ]
    }
   ],
   "source": [
    "# Filter()\n",
    "#Syntax : filter(function, iterable)\n",
    "\n",
    "# Example 1\n",
    "\n",
    "marks = [20,60,80,100]\n",
    "\n",
    "def Func(x):\n",
    "    if x < 80:\n",
    "        return False\n",
    "    else:\n",
    "        return True\n",
    "\n",
    "outstanding = filter(Func, marks)\n",
    "for x in outstanding:\n",
    "    print(x)"
   ]
  },
  {
   "cell_type": "code",
   "execution_count": 8,
   "id": "bd331768",
   "metadata": {},
   "outputs": [
    {
     "name": "stdout",
     "output_type": "stream",
     "text": [
      "30\n",
      "40\n"
     ]
    }
   ],
   "source": [
    "# Example 2\n",
    "\n",
    "x= [10,20,30,40]\n",
    "\n",
    "def Funct(x):\n",
    "    if x < 30:\n",
    "        return False\n",
    "    else:\n",
    "        return True\n",
    "\n",
    "y = filter(Funct, x)\n",
    "for x in y:\n",
    "    print(x)"
   ]
  },
  {
   "cell_type": "code",
   "execution_count": 9,
   "id": "56a2516e",
   "metadata": {},
   "outputs": [
    {
     "name": "stdout",
     "output_type": "stream",
     "text": [
      "<map object at 0x0000026894D75880>\n",
      "('Routerlan', 'wifibroadband', 'donglehotspot')\n"
     ]
    }
   ],
   "source": [
    "# Map()\n",
    "# Syntax map(function, iterables)\n",
    "\n",
    "\n",
    "# Example 1\n",
    "\n",
    "def func(x, y):\n",
    "    return x + y\n",
    "\n",
    "x = map(func, ('Router','wifi','dongle'), ('lan','broadband','hotspot'))\n",
    "print(x)\n",
    "print(tuple(x))"
   ]
  },
  {
   "cell_type": "code",
   "execution_count": 10,
   "id": "ae38790c",
   "metadata": {},
   "outputs": [
    {
     "name": "stdout",
     "output_type": "stream",
     "text": [
      "(4, 4, 7)\n"
     ]
    }
   ],
   "source": [
    "# Example 2\n",
    "\n",
    "def fun(x):\n",
    "    return len(x)\n",
    "\n",
    "x = map(fun, ('Andy','Boss','Charlie'))\n",
    "print(tuple(x))"
   ]
  },
  {
   "cell_type": "code",
   "execution_count": 11,
   "id": "e7fd053b",
   "metadata": {},
   "outputs": [
    {
     "name": "stdout",
     "output_type": "stream",
     "text": [
      "function body\n"
     ]
    }
   ],
   "source": [
    "# User defined functions\n",
    "# Syntax def function_name():\n",
    "#   statements\n",
    "\n",
    "# Example 1)\n",
    "def function():\n",
    "    print(\"function body\")\n",
    "function()"
   ]
  },
  {
   "cell_type": "code",
   "execution_count": 12,
   "id": "7b1a8f29",
   "metadata": {},
   "outputs": [
    {
     "name": "stdout",
     "output_type": "stream",
     "text": [
      "the sum is: 30\n"
     ]
    }
   ],
   "source": [
    "# Example 2\n",
    "def add(a,b):\n",
    "    sum=a+b;\n",
    "    return sum;\n",
    "print(\"the sum is:\",add(10,20))"
   ]
  },
  {
   "cell_type": "code",
   "execution_count": null,
   "id": "cf5849ed",
   "metadata": {},
   "outputs": [],
   "source": []
  },
  {
   "cell_type": "code",
   "execution_count": null,
   "id": "50cb20c1",
   "metadata": {},
   "outputs": [],
   "source": []
  }
 ],
 "metadata": {
  "kernelspec": {
   "display_name": "Python 3 (ipykernel)",
   "language": "python",
   "name": "python3"
  },
  "language_info": {
   "codemirror_mode": {
    "name": "ipython",
    "version": 3
   },
   "file_extension": ".py",
   "mimetype": "text/x-python",
   "name": "python",
   "nbconvert_exporter": "python",
   "pygments_lexer": "ipython3",
   "version": "3.9.12"
  }
 },
 "nbformat": 4,
 "nbformat_minor": 5
}
