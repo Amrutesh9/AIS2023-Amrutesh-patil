{
 "cells": [
  {
   "cell_type": "markdown",
   "id": "cc5854c1",
   "metadata": {},
   "source": [
    "# List"
   ]
  },
  {
   "cell_type": "code",
   "execution_count": 80,
   "id": "a3785d9c",
   "metadata": {},
   "outputs": [
    {
     "data": {
      "text/plain": [
       "['Virat', 'Sachin', 'Dhoni']"
      ]
     },
     "execution_count": 80,
     "metadata": {},
     "output_type": "execute_result"
    }
   ],
   "source": [
    "#Creating a list\n",
    "list= [\"Virat\", \"Sachin\", \"Dhoni\"]\n",
    "list"
   ]
  },
  {
   "cell_type": "code",
   "execution_count": 81,
   "id": "d2bf7791",
   "metadata": {},
   "outputs": [
    {
     "data": {
      "text/plain": [
       "['Virat', 'Dhoni', 'Dhoni', 'Sachin']"
      ]
     },
     "execution_count": 81,
     "metadata": {},
     "output_type": "execute_result"
    }
   ],
   "source": [
    "#creating list with duplicate value\n",
    "list = [\"Virat\",\"Dhoni\", \"Dhoni\", \"Sachin\"]\n",
    "list"
   ]
  },
  {
   "cell_type": "markdown",
   "id": "c42c921d",
   "metadata": {},
   "source": [
    "## Performing operations on list "
   ]
  },
  {
   "cell_type": "code",
   "execution_count": 82,
   "id": "5b0ebe6e",
   "metadata": {},
   "outputs": [
    {
     "name": "stdout",
     "output_type": "stream",
     "text": [
      "4\n"
     ]
    }
   ],
   "source": [
    "# Show List length\n",
    "\n",
    "print(len(list))"
   ]
  },
  {
   "cell_type": "code",
   "execution_count": 83,
   "id": "b2af7cdc",
   "metadata": {},
   "outputs": [
    {
     "data": {
      "text/plain": [
       "['Virat', 7, True, 'Sachin']"
      ]
     },
     "execution_count": 83,
     "metadata": {},
     "output_type": "execute_result"
    }
   ],
   "source": [
    "# Adding multiple datatype values in list\n",
    "\n",
    "list = [\"Virat\", 7, True, \"Sachin\"]\n",
    "list"
   ]
  },
  {
   "cell_type": "code",
   "execution_count": 84,
   "id": "cd069c77",
   "metadata": {},
   "outputs": [
    {
     "name": "stdout",
     "output_type": "stream",
     "text": [
      "<class 'list'>\n"
     ]
    }
   ],
   "source": [
    "# Showing the type of list\n",
    "\n",
    "print(type(list))"
   ]
  },
  {
   "cell_type": "code",
   "execution_count": 85,
   "id": "96a46ce4",
   "metadata": {},
   "outputs": [
    {
     "name": "stdout",
     "output_type": "stream",
     "text": [
      "Sachin\n"
     ]
    }
   ],
   "source": [
    "# Accessing list values\n",
    "# Positive indexing\n",
    "\n",
    "print(list[3])"
   ]
  },
  {
   "cell_type": "code",
   "execution_count": 86,
   "id": "5b23421b",
   "metadata": {},
   "outputs": [
    {
     "name": "stdout",
     "output_type": "stream",
     "text": [
      "Virat\n",
      "Sachin\n"
     ]
    }
   ],
   "source": [
    "# Negative Indexing\n",
    "\n",
    "print(list[-0])\n",
    "print(list[-1])"
   ]
  },
  {
   "cell_type": "code",
   "execution_count": 87,
   "id": "e9e7b7c8",
   "metadata": {},
   "outputs": [
    {
     "name": "stdout",
     "output_type": "stream",
     "text": [
      "[7, True]\n"
     ]
    }
   ],
   "source": [
    "# Range of index\n",
    "\n",
    "print(list[1:3])"
   ]
  },
  {
   "cell_type": "code",
   "execution_count": 88,
   "id": "d4705542",
   "metadata": {},
   "outputs": [
    {
     "data": {
      "text/plain": [
       "['Lan', 'Wifi', 'Hotspot']"
      ]
     },
     "execution_count": 88,
     "metadata": {},
     "output_type": "execute_result"
    }
   ],
   "source": [
    "# Changing value in list \n",
    "\n",
    "list = [\"Lan\", \"Router\", \"Hotspot\"]\n",
    "list[1] = \"Wifi\"\n",
    "list"
   ]
  },
  {
   "cell_type": "code",
   "execution_count": 89,
   "id": "3e7d0808",
   "metadata": {},
   "outputs": [
    {
     "data": {
      "text/plain": [
       "['Hotspot', 'Bandwidth', 'Router', 'Wifi']"
      ]
     },
     "execution_count": 89,
     "metadata": {},
     "output_type": "execute_result"
    }
   ],
   "source": [
    "# Changing range of item values\n",
    "\n",
    "list = [\"Lan\", \"Router\", \"Wifi\"]\n",
    "list[0:1] = [\"Hotspot\", \"Bandwidth\"]\n",
    "list"
   ]
  },
  {
   "cell_type": "code",
   "execution_count": 90,
   "id": "7975c59c",
   "metadata": {},
   "outputs": [
    {
     "name": "stdout",
     "output_type": "stream",
     "text": [
      "['Hotspot', 'Bandwidth', 'Router', 'Wifi', 'Phone']\n"
     ]
    }
   ],
   "source": [
    "# Add list item\n",
    "\n",
    "# Append item in list\n",
    "\n",
    "list.append(\"Phone\")\n",
    "print(list)"
   ]
  },
  {
   "cell_type": "code",
   "execution_count": 91,
   "id": "a53445c5",
   "metadata": {},
   "outputs": [
    {
     "name": "stdout",
     "output_type": "stream",
     "text": [
      "['Hotspot', 'Dongle', 'Bandwidth', 'Router', 'Wifi', 'Phone']\n"
     ]
    }
   ],
   "source": [
    "# Insert item on a specific position\n",
    "\n",
    "list.insert(1, \"Dongle\")\n",
    "print(list)"
   ]
  },
  {
   "cell_type": "code",
   "execution_count": 92,
   "id": "c452910d",
   "metadata": {},
   "outputs": [
    {
     "name": "stdout",
     "output_type": "stream",
     "text": [
      "['wifi', 'broadband', 'dongle', 'router', 'lan']\n"
     ]
    }
   ],
   "source": [
    "# Extend list\n",
    "\n",
    "list = [\"wifi\", \"broadband\", \"dongle\"]\n",
    "list2 = [\"router\",\"lan\"]\n",
    "list.extend(list2)\n",
    "print(list)"
   ]
  },
  {
   "cell_type": "code",
   "execution_count": 93,
   "id": "2c252245",
   "metadata": {},
   "outputs": [
    {
     "name": "stdout",
     "output_type": "stream",
     "text": [
      "['broadband', 'dongle', 'router', 'lan']\n"
     ]
    }
   ],
   "source": [
    "# Removing List items\n",
    "\n",
    "list.remove(\"wifi\")\n",
    "print(list)"
   ]
  },
  {
   "cell_type": "code",
   "execution_count": 94,
   "id": "e2b1b59f",
   "metadata": {},
   "outputs": [
    {
     "name": "stdout",
     "output_type": "stream",
     "text": [
      "['broadband', 'dongle', 'lan']\n"
     ]
    }
   ],
   "source": [
    "# Removing item from specified index\n",
    "\n",
    "list.pop(2)\n",
    "print(list)"
   ]
  },
  {
   "cell_type": "code",
   "execution_count": 95,
   "id": "3493e7c5",
   "metadata": {},
   "outputs": [
    {
     "name": "stdout",
     "output_type": "stream",
     "text": [
      "['Lan', 'Wifi', 'Router']\n"
     ]
    }
   ],
   "source": [
    "# Using del keyword to remove value from specified index\n",
    "\n",
    "list = [\"Lan\", \"Wifi\", \"Dongle\", \"Router\"]\n",
    "del list[2]\n",
    "print(list)"
   ]
  },
  {
   "cell_type": "code",
   "execution_count": 96,
   "id": "37446923",
   "metadata": {},
   "outputs": [
    {
     "name": "stdout",
     "output_type": "stream",
     "text": [
      "[]\n"
     ]
    }
   ],
   "source": [
    "# Using clear method\n",
    "\n",
    "list.clear()\n",
    "print(list)"
   ]
  },
  {
   "cell_type": "code",
   "execution_count": 97,
   "id": "e5d4246c",
   "metadata": {},
   "outputs": [
    {
     "name": "stdout",
     "output_type": "stream",
     "text": [
      "['Dongle', 'Lan', 'Router', 'Wifi']\n"
     ]
    }
   ],
   "source": [
    "# Sorting list in Ascending order\n",
    "\n",
    "list = [\"Lan\", \"Wifi\", \"Dongle\", \"Router\"]\n",
    "list.sort()\n",
    "print(list)"
   ]
  },
  {
   "cell_type": "code",
   "execution_count": 98,
   "id": "d88844ad",
   "metadata": {},
   "outputs": [
    {
     "name": "stdout",
     "output_type": "stream",
     "text": [
      "['Wifi', 'Router', 'Lan', 'Dongle']\n"
     ]
    }
   ],
   "source": [
    "# Sorting list in Descending order\n",
    "\n",
    "list.sort(reverse = True)\n",
    "print(list)"
   ]
  },
  {
   "cell_type": "code",
   "execution_count": 99,
   "id": "b71fbf13",
   "metadata": {},
   "outputs": [
    {
     "name": "stdout",
     "output_type": "stream",
     "text": [
      "['Router', 'Dongle', 'Wifi', 'Lan']\n"
     ]
    }
   ],
   "source": [
    "# Reversing the below list\n",
    "\n",
    "list = [\"Lan\", \"Wifi\", \"Dongle\", \"Router\"]\n",
    "list.reverse()\n",
    "print(list)"
   ]
  },
  {
   "cell_type": "code",
   "execution_count": 100,
   "id": "444c04bf",
   "metadata": {},
   "outputs": [
    {
     "name": "stdout",
     "output_type": "stream",
     "text": [
      "['Router', 'Dongle', 'Wifi', 'Lan']\n"
     ]
    }
   ],
   "source": [
    "# Copying a list \n",
    "\n",
    "list1 = list.copy()\n",
    "print(list1)"
   ]
  },
  {
   "cell_type": "code",
   "execution_count": 101,
   "id": "33408a7c",
   "metadata": {},
   "outputs": [],
   "source": [
    "# Joining two Lists"
   ]
  },
  {
   "cell_type": "code",
   "execution_count": 102,
   "id": "1002574e",
   "metadata": {},
   "outputs": [
    {
     "name": "stdout",
     "output_type": "stream",
     "text": [
      "['Lan', 'Wifi', 0, 2]\n"
     ]
    }
   ],
   "source": [
    "list1 = [\"Lan\", \"Wifi\"]\n",
    "list2 = [0,2]\n",
    "\n",
    "list3 = list1 + list2\n",
    "print(list3)"
   ]
  },
  {
   "cell_type": "code",
   "execution_count": 103,
   "id": "dc478be7",
   "metadata": {},
   "outputs": [
    {
     "name": "stdout",
     "output_type": "stream",
     "text": [
      "['Amar', 'Akhbar', 'Anthony']\n"
     ]
    }
   ],
   "source": [
    "# Using extend function to join two lists\n",
    "\n",
    "list1 = [\"Amar\",\"Akhbar\"]\n",
    "list2 = [\"Anthony\"]\n",
    "list1.extend(list2)\n",
    "print(list1)"
   ]
  },
  {
   "cell_type": "code",
   "execution_count": 104,
   "id": "a19cf8d5",
   "metadata": {},
   "outputs": [
    {
     "name": "stdout",
     "output_type": "stream",
     "text": [
      "6\n"
     ]
    }
   ],
   "source": [
    "#Counting the number of times value exixt in a list\n",
    "\n",
    "list = [1,2,5,3,5,4,5,5,4,3,4,5,6,5,4,2,8,9]\n",
    "print(list.count(5))"
   ]
  },
  {
   "cell_type": "markdown",
   "id": "781522ac",
   "metadata": {},
   "source": [
    "# Tuple"
   ]
  },
  {
   "cell_type": "code",
   "execution_count": 105,
   "id": "b867c2c0",
   "metadata": {},
   "outputs": [
    {
     "name": "stdout",
     "output_type": "stream",
     "text": [
      "('Amy', 'Rose', 'Jacky')\n"
     ]
    }
   ],
   "source": [
    "# Defining a tuple\n",
    "\n",
    "tuple = (\"Amy\",\"Rose\",\"Jacky\")\n",
    "print(tuple)"
   ]
  },
  {
   "cell_type": "code",
   "execution_count": 106,
   "id": "51cc9681",
   "metadata": {},
   "outputs": [
    {
     "name": "stdout",
     "output_type": "stream",
     "text": [
      "('Amy', 'Rose', 'Jacky', 'Amy', 'Rose')\n"
     ]
    }
   ],
   "source": [
    "# Defining Duplicate values in a tuple\n",
    "\n",
    "tuple = (\"Amy\",\"Rose\",\"Jacky\", \"Amy\", \"Rose\")\n",
    "print(tuple)"
   ]
  },
  {
   "cell_type": "code",
   "execution_count": 107,
   "id": "36e24890",
   "metadata": {},
   "outputs": [
    {
     "name": "stdout",
     "output_type": "stream",
     "text": [
      "(1, 'Amy', 2, 'India')\n"
     ]
    }
   ],
   "source": [
    "# Defining multiple types of data in tuple\n",
    "\n",
    "tuple = (1, \"Amy\", 2, \"India\")\n",
    "print(tuple)"
   ]
  },
  {
   "cell_type": "markdown",
   "id": "be4d8af4",
   "metadata": {},
   "source": [
    "## Performing operations on tuple"
   ]
  },
  {
   "cell_type": "code",
   "execution_count": 108,
   "id": "331eef47",
   "metadata": {},
   "outputs": [
    {
     "name": "stdout",
     "output_type": "stream",
     "text": [
      "India\n"
     ]
    }
   ],
   "source": [
    "# Accessing tuple items using index \n",
    "# Positive indexing\n",
    "\n",
    "print(tuple[3])"
   ]
  },
  {
   "cell_type": "code",
   "execution_count": 109,
   "id": "f5a698c0",
   "metadata": {},
   "outputs": [
    {
     "name": "stdout",
     "output_type": "stream",
     "text": [
      "1\n",
      "India\n"
     ]
    }
   ],
   "source": [
    "# Negative indexing\n",
    "\n",
    "print(tuple[0])\n",
    "print(tuple[-1])"
   ]
  },
  {
   "cell_type": "code",
   "execution_count": 110,
   "id": "d4bbe90d",
   "metadata": {},
   "outputs": [
    {
     "name": "stdout",
     "output_type": "stream",
     "text": [
      "4\n"
     ]
    }
   ],
   "source": [
    "# Length of tuple\n",
    "\n",
    "print(len(tuple))"
   ]
  },
  {
   "cell_type": "code",
   "execution_count": 111,
   "id": "fe5447e0",
   "metadata": {},
   "outputs": [
    {
     "name": "stdout",
     "output_type": "stream",
     "text": [
      "('Amy', 2)\n"
     ]
    }
   ],
   "source": [
    "# Range of Positive Index\n",
    "\n",
    "print(tuple[1:3])"
   ]
  },
  {
   "cell_type": "code",
   "execution_count": 112,
   "id": "88bd5c29",
   "metadata": {},
   "outputs": [
    {
     "name": "stdout",
     "output_type": "stream",
     "text": [
      "('Jacky', 'Amy')\n"
     ]
    }
   ],
   "source": [
    "# Range of Negative Index\n",
    "\n",
    "tuple = (\"Amy\",\"Rose\",\"Jacky\", \"Amy\", \"Rose\")\n",
    "print(tuple[-3:-1])"
   ]
  },
  {
   "cell_type": "code",
   "execution_count": 113,
   "id": "5b233b02",
   "metadata": {},
   "outputs": [
    {
     "name": "stdout",
     "output_type": "stream",
     "text": [
      "2\n"
     ]
    }
   ],
   "source": [
    "# Count function in tuple\n",
    "\n",
    "tuple = (\"Amy\",\"Rose\",\"Jacky\", \"Amy\", \"Rose\")\n",
    "t=tuple.count(\"Rose\")\n",
    "print(t)"
   ]
  },
  {
   "cell_type": "markdown",
   "id": "1bb5e7eb",
   "metadata": {},
   "source": [
    "# Sets"
   ]
  },
  {
   "cell_type": "code",
   "execution_count": 114,
   "id": "41e7cb38",
   "metadata": {},
   "outputs": [
    {
     "name": "stdout",
     "output_type": "stream",
     "text": [
      "{'Mumbai', 'Pune', 'Nashik'}\n"
     ]
    }
   ],
   "source": [
    "# Defining a set\n",
    "\n",
    "Set = {\"Pune\", \"Nashik\", \"Mumbai\"}\n",
    "print(Set)"
   ]
  },
  {
   "cell_type": "code",
   "execution_count": 115,
   "id": "be4f16d5",
   "metadata": {},
   "outputs": [
    {
     "name": "stdout",
     "output_type": "stream",
     "text": [
      "{20, 'Maharashtra', 'Bangalore', 'Jammu', 12, 30}\n"
     ]
    }
   ],
   "source": [
    "# Defining set in multiple datatypes \n",
    "\n",
    "S = {\"Maharashtra\",\"Bangalore\", 12, 20, 30, \"Jammu\"}\n",
    "print(S)"
   ]
  },
  {
   "cell_type": "markdown",
   "id": "b2ee0ee9",
   "metadata": {},
   "source": [
    "## Performing operations on set"
   ]
  },
  {
   "cell_type": "code",
   "execution_count": 116,
   "id": "578c74b9",
   "metadata": {},
   "outputs": [
    {
     "name": "stdout",
     "output_type": "stream",
     "text": [
      "6\n"
     ]
    }
   ],
   "source": [
    "# Getting the Length of set\n",
    "\n",
    "S = {\"Maharashtra\",\"Bangalore\", 12, 20, 30, \"Jammu\"}\n",
    "print(len(S))"
   ]
  },
  {
   "cell_type": "code",
   "execution_count": 117,
   "id": "816a1aee",
   "metadata": {},
   "outputs": [
    {
     "name": "stdout",
     "output_type": "stream",
     "text": [
      "{20, 'Maharashtra', 'Bangalore', 'Jammu', 12, 'Mangalore', 30}\n"
     ]
    }
   ],
   "source": [
    "# Adding new items in set\n",
    "\n",
    "S.add(\"Mangalore\")\n",
    "print(S)"
   ]
  },
  {
   "cell_type": "code",
   "execution_count": 118,
   "id": "64e0984a",
   "metadata": {},
   "outputs": [
    {
     "name": "stdout",
     "output_type": "stream",
     "text": [
      "{1, 2, 3, 4, 5, 6, 'Jammu', 12, 'Mangalore', 20, 'Maharashtra', 'Bangalore', 30}\n"
     ]
    }
   ],
   "source": [
    "# Adding new set values into exisiting set\n",
    "\n",
    "S1 = {1,2,3,4,5,6}\n",
    "S.update(S1)\n",
    "print(S)"
   ]
  },
  {
   "cell_type": "code",
   "execution_count": 119,
   "id": "8650c438",
   "metadata": {},
   "outputs": [
    {
     "name": "stdout",
     "output_type": "stream",
     "text": [
      "{1, 2, 3, 4, 5, 6, 'Jammu', 12, 20, 'Maharashtra', 'Bangalore', 30}\n"
     ]
    }
   ],
   "source": [
    "# Removing set item (If value is not present it will throw error)\n",
    "\n",
    "S.remove(\"Mangalore\")\n",
    "print(S)"
   ]
  },
  {
   "cell_type": "code",
   "execution_count": 120,
   "id": "05de8e06",
   "metadata": {},
   "outputs": [
    {
     "name": "stdout",
     "output_type": "stream",
     "text": [
      "{1, 2, 3, 4, 5, 6, 'Jammu', 12, 20, 'Maharashtra', 'Bangalore', 30}\n"
     ]
    }
   ],
   "source": [
    "# Removing set item using Discard (If value is not present it will not throw error)\n",
    "\n",
    "S.discard(\"Mangalore\")\n",
    "print(S)"
   ]
  },
  {
   "cell_type": "code",
   "execution_count": 121,
   "id": "b276d511",
   "metadata": {},
   "outputs": [
    {
     "name": "stdout",
     "output_type": "stream",
     "text": [
      "{2, 3, 4, 5, 6, 'Jammu', 12, 20, 'Maharashtra', 'Bangalore', 30}\n"
     ]
    }
   ],
   "source": [
    "# Removing random value using pop function\n",
    "\n",
    "S2 = S.pop()\n",
    "print(S)"
   ]
  },
  {
   "cell_type": "code",
   "execution_count": 122,
   "id": "d417622b",
   "metadata": {},
   "outputs": [
    {
     "name": "stdout",
     "output_type": "stream",
     "text": [
      "set()\n"
     ]
    }
   ],
   "source": [
    "# Emptying the whole list\n",
    "\n",
    "S1.clear()\n",
    "print(S1)"
   ]
  },
  {
   "cell_type": "code",
   "execution_count": 123,
   "id": "c5b83991",
   "metadata": {},
   "outputs": [],
   "source": [
    "# Deleting the set\n",
    "\n",
    "del S"
   ]
  },
  {
   "cell_type": "code",
   "execution_count": null,
   "id": "5f3dc7cb",
   "metadata": {},
   "outputs": [],
   "source": []
  }
 ],
 "metadata": {
  "kernelspec": {
   "display_name": "Python 3 (ipykernel)",
   "language": "python",
   "name": "python3"
  },
  "language_info": {
   "codemirror_mode": {
    "name": "ipython",
    "version": 3
   },
   "file_extension": ".py",
   "mimetype": "text/x-python",
   "name": "python",
   "nbconvert_exporter": "python",
   "pygments_lexer": "ipython3",
   "version": "3.9.12"
  }
 },
 "nbformat": 4,
 "nbformat_minor": 5
}
