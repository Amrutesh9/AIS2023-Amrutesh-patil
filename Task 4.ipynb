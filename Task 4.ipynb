{
 "cells": [
  {
   "cell_type": "code",
   "execution_count": 1,
   "id": "153985cf",
   "metadata": {},
   "outputs": [],
   "source": [
    "# 1) Program to swap first and last element using python function\n",
    "\n",
    "def swap(num):\n",
    "    if len(num) <2:\n",
    "        return num\n",
    "    else:\n",
    "        first = num[0]\n",
    "        last=num[-1]\n",
    "        num[0]=last\n",
    "        num[-1]=first\n",
    "        return num"
   ]
  },
  {
   "cell_type": "code",
   "execution_count": 2,
   "id": "223d8c7b",
   "metadata": {},
   "outputs": [
    {
     "name": "stdout",
     "output_type": "stream",
     "text": [
      "[3, 2, 7, 2, 4, 6, 1]\n"
     ]
    }
   ],
   "source": [
    "num=[1,2,7,2,4,6,3]\n",
    "swap_nos = swap(num)\n",
    "print(swap_nos)"
   ]
  },
  {
   "cell_type": "code",
   "execution_count": 3,
   "id": "fd1db5ae",
   "metadata": {},
   "outputs": [
    {
     "name": "stdout",
     "output_type": "stream",
     "text": [
      "5\n"
     ]
    }
   ],
   "source": [
    "# 2) Function to count length of string\n",
    "# Syntax len(str)\n",
    "\n",
    "T=(12,23,34,45,56)\n",
    "print(len(T))\n"
   ]
  },
  {
   "cell_type": "code",
   "execution_count": 4,
   "id": "a38cba85",
   "metadata": {},
   "outputs": [
    {
     "name": "stdout",
     "output_type": "stream",
     "text": [
      "Please enter any 5 integer nmbers\n",
      "\n",
      "Number 0 = 10\n",
      "Number 1 = 20\n",
      "Number 2 = 30\n",
      "Number 3 = -10\n",
      "Number 4 = 50\n",
      "The Sum of Numbers after Skipping Negative Numbers =  110\n"
     ]
    }
   ],
   "source": [
    "# Program to get the sum of an only non negative integer\n",
    "\n",
    "Sum=0\n",
    "\n",
    "print(\"Please enter any 5 integer nmbers\\n\")\n",
    "for i in range(0, 5):\n",
    "    num = int(input(\"Number %d = \" %i))\n",
    "\n",
    "    if num < 0:\n",
    "        continue\n",
    "\n",
    "    Sum = Sum + num\n",
    "\n",
    "print(\"The Sum of Numbers after Skipping Negative Numbers = \", Sum)"
   ]
  },
  {
   "cell_type": "code",
   "execution_count": 5,
   "id": "879ff1ab",
   "metadata": {},
   "outputs": [
    {
     "name": "stdout",
     "output_type": "stream",
     "text": [
      "Enter a number \t3\n",
      "factorial of  3 = 6\n"
     ]
    }
   ],
   "source": [
    "# Program for factorial using function\n",
    "\n",
    "def fact(x):\n",
    "\n",
    "    if x == 1:\n",
    "        return 1\n",
    "    else:\n",
    "\n",
    "        return (x * fact(x-1))\n",
    "\n",
    "num = int(input(\"Enter a number \\t\"))\n",
    "\n",
    "# calling the factorial function\n",
    "result = fact(num)\n",
    "print(\"factorial of \",num , \"=\", result)"
   ]
  },
  {
   "cell_type": "code",
   "execution_count": null,
   "id": "a6ea2385",
   "metadata": {},
   "outputs": [],
   "source": []
  }
 ],
 "metadata": {
  "kernelspec": {
   "display_name": "Python 3 (ipykernel)",
   "language": "python",
   "name": "python3"
  },
  "language_info": {
   "codemirror_mode": {
    "name": "ipython",
    "version": 3
   },
   "file_extension": ".py",
   "mimetype": "text/x-python",
   "name": "python",
   "nbconvert_exporter": "python",
   "pygments_lexer": "ipython3",
   "version": "3.9.12"
  }
 },
 "nbformat": 4,
 "nbformat_minor": 5
}
